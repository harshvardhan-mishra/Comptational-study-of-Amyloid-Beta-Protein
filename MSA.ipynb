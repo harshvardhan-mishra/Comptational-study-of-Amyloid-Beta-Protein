{
 "cells": [
  {
   "cell_type": "code",
   "execution_count": 6,
   "metadata": {},
   "outputs": [
    {
     "name": "stdout",
     "output_type": "stream",
     "text": [
      "Requirement already satisfied: Biopython in c:\\users\\hii\\anaconda3\\lib\\site-packages (1.79)\n",
      "Requirement already satisfied: numpy in c:\\users\\hii\\anaconda3\\lib\\site-packages (from Biopython) (1.18.5)\n"
     ]
    }
   ],
   "source": [
    "!pip install Biopython\n"
   ]
  },
  {
   "cell_type": "code",
   "execution_count": 7,
   "metadata": {},
   "outputs": [
    {
     "name": "stdout",
     "output_type": "stream",
     "text": [
      "clustalw2 -infile=unaligned.fasta\n"
     ]
    }
   ],
   "source": [
    "# Global sequence alignment with ClustalW\n",
    "# import the commandline software\n",
    "from Bio.Align.Applications import ClustalwCommandline\n",
    "in_file = \"unaligned.fasta\"\n",
    "# parsing DNA file (Unaligned)\n",
    "clustalw_cline = ClustalwCommandline(\"clustalw2\", infile= in_file)\n",
    "#performing the alignment\n",
    "# printing the output\n",
    "print(clustalw_cline)"
   ]
  },
  {
   "cell_type": "code",
   "execution_count": 8,
   "metadata": {},
   "outputs": [
    {
     "name": "stdout",
     "output_type": "stream",
     "text": [
      "clustalw2 -infile=unaligned.fasta\n"
     ]
    }
   ],
   "source": [
    "#import clustalw from Biopython\n",
    "#step1) \n",
    "from Bio.Align.Applications import ClustalwCommandline\n",
    "cline = ClustalwCommandline(\"clustalw2\", infile = \"unaligned.fasta\")\n",
    "print(cline)\n",
    "# path \n",
    "# C:\\Program Files (x86)\\ClustalW2"
   ]
  },
  {
   "cell_type": "code",
   "execution_count": 9,
   "metadata": {},
   "outputs": [
    {
     "name": "stdout",
     "output_type": "stream",
     "text": [
      "\"C:\\Program Files (x86)\\ClustalW2\\clustalw2.exe\" -infile=unaligned.fasta\n"
     ]
    }
   ],
   "source": [
    "# A) assertion\n",
    "#B) Run Clustal W fasta\n",
    "import os\n",
    "clustalw_exe = r\"C:\\Program Files (x86)\\ClustalW2\\clustalw2.exe\"\n",
    "clustalw_cline = ClustalwCommandline(clustalw_exe, infile = \"unaligned.fasta\")\n",
    "assert os.path.isfile(clustalw_exe), \"Clustal_W executable is missing or not found\"\n",
    "stdout, stderr = clustalw_cline()\n",
    "print(clustalw_cline)"
   ]
  },
  {
   "cell_type": "code",
   "execution_count": 10,
   "metadata": {
    "scrolled": true
   },
   "outputs": [
    {
     "name": "stdout",
     "output_type": "stream",
     "text": [
      "Alignment with 100 rows and 938 columns\n",
      "--------------------------------------------...MQN NP_000475.1\n",
      "--------------------------------------------...MQN ANN47479.1\n",
      "--------------------------------------------...MQN NP_001191230.1\n",
      "--------------------------------------------...MQN XP_009449632.1\n",
      "--------------------------------------------...MQN XP_004062684.1\n",
      "--------------------------------------------...MQN XP_004062681.1\n",
      "--------------------------------------------...MQN NP_001013036.1\n",
      "--------------------------------------------...MQN XP_030662027.1\n",
      "--------------------------------------------...MQN XP_032030716.1\n",
      "--------------------------------------------...MQN XP_005548940.1\n",
      "--------------------------------------------...MQN XP_011853699.1\n",
      "--------------------------------------------...MQN XP_023045769.1\n",
      "--------------------------------------------...MQN XP_010381738.1\n",
      "--------------------------------------------...MQN XP_011781877.1\n",
      "--------------------------------------------...MQN XP_011781879.1\n",
      "--------------------------------------------...MQN XP_004062682.1\n",
      "--------------------------------------------...MQN NP_958816.1\n",
      "--------------------------------------------...MQN XP_005548942.1\n",
      "...\n",
      "--------------------------------------------...MQN XP_037688902.1\n"
     ]
    }
   ],
   "source": [
    "#Generate Alignment output\n",
    "from Bio import AlignIO\n",
    "ClustalAlign = AlignIO.read(\"unaligned.aln\", \"clustal\")\n",
    "print(ClustalAlign)"
   ]
  },
  {
   "cell_type": "code",
   "execution_count": 11,
   "metadata": {},
   "outputs": [
    {
     "name": "stdout",
     "output_type": "stream",
     "text": [
      "                                , NP_000475.1\n",
      "                                |\n",
      "                                |_ ANN47479.1\n",
      "                               ,|\n",
      "                               ||, XP_004062681.1\n",
      "                               |||\n",
      "                               ||| _ NP_001191230.1\n",
      "                              ,| ||\n",
      "                              || || XP_009449632.1\n",
      "                              ||  |\n",
      "                              ||  |_ XP_004062684.1\n",
      "                            __||\n",
      "                           |  || NP_001013036.1\n",
      "                           |  |\n",
      "                           |  |      , XP_030662027.1\n",
      "                           |  |______|\n",
      "                           |         |_____ XP_032030716.1\n",
      "                           |\n",
      "                           |     , XP_005548940.1\n",
      "                           |    ,|\n",
      "                           |    ||________________________ XP_011853699.1\n",
      "                           |    |\n",
      "                          _|   _|__ XP_023045769.1\n",
      "                         | |  | |\n",
      "                         | |  | , XP_010381738.1\n",
      "                         | | ,| |\n",
      "                         | | || |_ XP_011781877.1\n",
      "                         | | ||\n",
      "                         | | || XP_011781879.1\n",
      "                         | | |\n",
      "                         | | |_ XP_004062682.1\n",
      "                _________| | |\n",
      "               |         | | |_ NP_958816.1\n",
      "               |         | |_|\n",
      "               |         |   | XP_005548942.1\n",
      "               |         |   |\n",
      "               |         |   |_ BAE01907.1\n",
      "               |         |\n",
      "              ,|         |     , XP_017397391.1\n",
      "              ||         |    _|\n",
      "              ||         |   | |__ XP_002761374.2\n",
      "              ||         |___|\n",
      "              ||             , XP_032132996.1\n",
      "              ||             |\n",
      "            __||             |_ XP_039336411.1\n",
      "           |  ||\n",
      "           |  ||______________________ XP_037688902.1\n",
      "           |  |\n",
      "           |  |     ___ XP_012619905.1\n",
      "           |  |  __|\n",
      "          ,|  |_|  |__ XP_012495594.1\n",
      "          ||    |\n",
      "          ||    |_________ XP_023365467.1\n",
      "          ||\n",
      "          ||   ___ XP_006872530.1\n",
      "          || _|\n",
      "          ||| |______ XP_006896090.1\n",
      "          | |\n",
      "          | |__________________ XP_004713144.1\n",
      "         ,|\n",
      "         ||   ______________ ATW68851.1\n",
      "         ||  |\n",
      "         ||  |                         , XP_003467233.1\n",
      "         ||  |                        ,|\n",
      "         ||  |                   _____||_ Q60495.2\n",
      "         ||  |                  |     |\n",
      "         ||  |                 _|     |_ XP_013005226.1\n",
      "         ||  |                | |\n",
      "         ||__|    ____________| |_____ XP_004842285.1\n",
      "         |   |   |            |\n",
      "         |   |   |            |  _____ XP_004627753.1\n",
      "         |   |  _|            |_|\n",
      "         |   | | |              |______ XP_005375649.1\n",
      "         |   | | |\n",
      "         |   | | |     __________ NP_001182598.1\n",
      "         |   | | |____|\n",
      "         |   |_|      |___________ XP_040836611.1\n",
      "         |     |\n",
      "         |     |   _____________ XP_015334152.1\n",
      "         |     |  |\n",
      "        ,|     |  |    ____________ XP_012886483.1\n",
      "        ||     |  |  _|\n",
      "        ||     |__| | |___________ XP_020041696.1\n",
      "        ||        | |\n",
      "        ||        | |          , XP_034371116.1\n",
      "        ||        | |         ,|\n",
      "        ||        |_|         ||__ XP_028613034.1\n",
      "        ||          |        _|\n",
      "        ||          |       | |  , NP_062161.1\n",
      "        ||          |       | | ,|\n",
      "        ||          |       | |_||_ XP_032756384.1\n",
      "        ||          |_______|   |\n",
      "        ||                  |   |_____ XP_031220168.1\n",
      "        ||                  |\n",
      "        ||                  |      , XP_005345348.1\n",
      "        ||                  |   ___|\n",
      "        ||                  |__|   | XP_038201642.1\n",
      "        ||                     |\n",
      "        ||                     |____ XP_042115444.1\n",
      "        ||\n",
      "        ||     , XP_003364220.1\n",
      "        ||_____|\n",
      "        |      | XP_014714500.2\n",
      "       ,|\n",
      "       || ____ NP_999537.1\n",
      "       |||\n",
      "       |||              _ XP_017506298.1\n",
      "       |||_____________|\n",
      "       ||              |__ XP_036731132.1\n",
      "       ||\n",
      "       ||   _ XP_007110994.1\n",
      "       ||  |\n",
      "       ||  |__________ XP_036706709.1\n",
      "       ||  |\n",
      "       ||  | , XP_022429283.1\n",
      "       ||__| |\n",
      "       |   | |_ XP_007466553.1\n",
      "       |   | |\n",
      "       |   | |  , XP_032485667.1\n",
      "       |   | |__|\n",
      "       |   |_|  | XP_024587782.1\n",
      "       |     |\n",
      "       |     |, XP_004264524.1\n",
      "       |     ||\n",
      "       |      | XP_019778122.1\n",
      "       |\n",
      "       |   , XP_006215271.1\n",
      "       | __|\n",
      "       ||  |_______ XP_010975692.1\n",
      "       ||\n",
      "       ||             , XP_005201194.1\n",
      "       ||             |\n",
      "       ||             |_ XP_010836751.1\n",
      "       ||             |\n",
      "       ||             |_ XP_027399267.1\n",
      "       ||             |\n",
      "       ||           __|_ XP_025137742.1\n",
      "       ||          |  |\n",
      "       ||          |  |   _ XP_004002849.1\n",
      "       ||          |  |__|\n",
      "     __|| _________|     |______ XP_040083546.1\n",
      "    |  |||         |\n",
      "    |  |||         |  , XP_043304581.1\n",
      "    |  |||         | _|\n",
      "    |  |||         || |_ XP_043749156.1\n",
      "    |  |||          |\n",
      "    |  |||          |___ XP_020748065.1\n",
      "    |  |||\n",
      "    |  | |                __ XP_008143839.1\n",
      "    |  | |              ,|\n",
      "    |  | |      ________||_ XP_036208731.1\n",
      "   _|  | |     |        |\n",
      "  | |  | |  ___|        |______ XP_036303040.1\n",
      "  | |  | | |   |\n",
      "  | |  | |_|   |__________ XP_036098344.1\n",
      "  | |  |   |\n",
      "  | |  |   |   _______ XP_032982934.1\n",
      "  | |  |   |__|\n",
      " ,| |  |      |__________ XP_006908305.1\n",
      " || |  |\n",
      " || |  |______________ XP_004429570.1\n",
      " || |\n",
      " || |____________ XP_037380956.1\n",
      " ||\n",
      " ||      ___ XP_039093221.1\n",
      " ||_____|\n",
      " |      |      , XP_019323331.1\n",
      " |      |______|\n",
      " |             |_ XP_042812781.1\n",
      " |\n",
      " |  , XP_021533767.1\n",
      " |  |\n",
      " |  |   , XP_032249242.1\n",
      " |__|___|\n",
      " |  |   | XP_035928655.1\n",
      " |  |\n",
      " |  |____ XP_034873420.1\n",
      " |\n",
      " |, XP_044941112.1\n",
      " ||\n",
      " ||___ XP_044107007.1\n",
      "_|\n",
      " , XP_032721380.1\n",
      " |\n",
      " , XP_026373752.1\n",
      " |\n",
      " |____ XP_002920108.1\n",
      " |\n",
      " | XP_022366667.1\n",
      " |\n",
      " |        , NP_001006601.2\n",
      " |________|\n",
      "          , AAR97726.1\n",
      "          |\n",
      "          , AAX81908.1\n",
      "          |\n",
      "          | , XP_041590715.1\n",
      "          |_|\n",
      "            |_ CAD7693518.1\n",
      "\n"
     ]
    }
   ],
   "source": [
    "# Generate Dendogram (Tree) output\n",
    "from Bio import Phylo\n",
    "tree = Phylo.read(\"unaligned.dnd\", \"newick\")\n",
    "Phylo.draw_ascii(tree)"
   ]
  },
  {
   "cell_type": "code",
   "execution_count": null,
   "metadata": {},
   "outputs": [],
   "source": []
  }
 ],
 "metadata": {
  "kernelspec": {
   "display_name": "Python 3",
   "language": "python",
   "name": "python3"
  },
  "language_info": {
   "codemirror_mode": {
    "name": "ipython",
    "version": 3
   },
   "file_extension": ".py",
   "mimetype": "text/x-python",
   "name": "python",
   "nbconvert_exporter": "python",
   "pygments_lexer": "ipython3",
   "version": "3.8.3"
  }
 },
 "nbformat": 4,
 "nbformat_minor": 4
}
